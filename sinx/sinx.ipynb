{
 "cells": [
  {
   "cell_type": "code",
   "execution_count": null,
   "metadata": {},
   "outputs": [],
   "source": [
    "import matplotlib.pyplot as plt\n",
    "# from matplotlib.animation import ArtistAnimation\n",
    "import numpy as np\n",
    "import torch\n",
    "from torch import nn"
   ]
  },
  {
   "cell_type": "code",
   "execution_count": null,
   "metadata": {},
   "outputs": [],
   "source": [
    "# VARIABLES\n",
    "\n",
    "# Range\n",
    "min = -torch.pi\n",
    "max = torch.pi\n",
    "\n",
    "# Params\n",
    "steps = 10000\n",
    "batch_size = 100\n",
    "log_every_steps = 1000\n",
    "\n",
    "# Learning rate\n",
    "learning_rate = 1e-2\n",
    "\n",
    "# Device\n",
    "if torch.cuda.is_available():\n",
    "    device = \"cuda\"\n",
    "elif torch.backends.mps.is_available():\n",
    "    device = \"mps\"\n",
    "else:\n",
    "    device = \"cpu\"\n",
    "\n",
    "# Classes and methods\n",
    "rates = []"
   ]
  },
  {
   "cell_type": "code",
   "execution_count": null,
   "metadata": {},
   "outputs": [],
   "source": [
    "class NeuralNetwork(nn.Module):\n",
    "    def __init__(self):\n",
    "        super().__init__()\n",
    "        self.flatten = nn.Flatten()\n",
    "        self.linear_sig_stack = nn.Sequential(\n",
    "            nn.Linear(1, 10),\n",
    "            nn.Sigmoid(),\n",
    "            nn.Linear(10, 10),\n",
    "            nn.Sigmoid(),\n",
    "            nn.Linear(10, 1),\n",
    "        )\n",
    "\n",
    "    def forward(self, x):\n",
    "        output = self.linear_sig_stack(x)\n",
    "        return output"
   ]
  },
  {
   "cell_type": "code",
   "execution_count": null,
   "metadata": {},
   "outputs": [],
   "source": [
    "def train(\n",
    "    model: NeuralNetwork,\n",
    "    optimizer: torch.optim.Optimizer,\n",
    "    steps: int,\n",
    "    batch_size: int,\n",
    "    device: str,\n",
    "    min: float,\n",
    "    max: float,\n",
    "):\n",
    "    # Animation\n",
    "    # num_points = 250\n",
    "    # points = torch.linspace(-torch.pi, torch.pi, 250, device=device).unsqueeze(-1)\n",
    "    # y_plt = torch.sin(points)\n",
    "\n",
    "    # fig, ax = plt.subplots()\n",
    "\n",
    "    # ax.plot(points.cpu().numpy(), y_plt.cpu().numpy(), color='blue')\n",
    "\n",
    "    # ims = []\n",
    "\n",
    "    for i in range(steps):\n",
    "        # Generate batch of `batch_size` inputs.\n",
    "        x = torch.rand([batch_size, 1], device=device) * 2 * torch.pi - torch.pi\n",
    "        y_expected = torch.sin(x)\n",
    "        y_hat = model(x)\n",
    "\n",
    "        loss = nn.functional.l1_loss(y_expected, y_hat)\n",
    "\n",
    "        # Backwards\n",
    "        model.zero_grad()\n",
    "        loss.backward()\n",
    "\n",
    "        # Optimizer var updates\n",
    "        optimizer.step()\n",
    "\n",
    "        # Log every n batches\n",
    "        if i > 0 and i % log_every_steps == 0:\n",
    "            print(f\"batch: {i}, loss: {loss.item()}\")\n",
    "            rates.append(loss.item())\n",
    "            # with torch.no_grad():\n",
    "            #     model.eval()\n",
    "            #     y_hat_plt = model(points)\n",
    "            #     im = ax.plot(points.cpu().numpy(), y_hat_plt.cpu().numpy(), color='red')\n",
    "            #     ims.append(im)\n",
    "\n",
    "    # anim = ArtistAnimation(fig, ims, interval=500)\n",
    "    # anim.save('mod.mp4')\n",
    "    # save model params\n",
    "    # torch.save(model.state_dict(),\"model.torch\")"
   ]
  },
  {
   "cell_type": "code",
   "execution_count": null,
   "metadata": {},
   "outputs": [],
   "source": [
    "# Neural network model\n",
    "model = NeuralNetwork().to(device)\n",
    "# model.load_state_dict('file.file')\n",
    "\n",
    "optimizer = torch.optim.SGD(model.parameters(), lr=learning_rate, momentum=0.9)\n",
    "\n",
    "# Training\n",
    "train(\n",
    "    model=model,\n",
    "    optimizer=optimizer,\n",
    "    steps=steps,\n",
    "    batch_size=batch_size,\n",
    "    device=device,\n",
    "    min=min,\n",
    "    max=max,\n",
    ")"
   ]
  },
  {
   "cell_type": "code",
   "execution_count": null,
   "metadata": {},
   "outputs": [],
   "source": [
    "# Draw the prediction performance within trained range.\n",
    "with torch.no_grad():\n",
    "    model.eval()\n",
    "    num_points = 250\n",
    "    points = torch.linspace(-torch.pi, torch.pi, 250, device=device).unsqueeze(-1)\n",
    "    y = model(points)\n",
    "plt.plot(points.cpu().numpy(), y.cpu().numpy())"
   ]
  },
  {
   "cell_type": "code",
   "execution_count": null,
   "metadata": {},
   "outputs": [],
   "source": [
    "# Draw prediction beyond the range. Notice how it does not generalize to the data\n",
    "# it has not seen before.\n",
    "with torch.no_grad():\n",
    "    model.eval()\n",
    "    num_points = 250\n",
    "    points = torch.linspace(-2 * torch.pi, 2 * torch.pi, 250, device=device).unsqueeze(-1)\n",
    "    y = model(points)\n",
    "plt.plot(points.cpu().numpy(), y.cpu().numpy())"
   ]
  }
 ],
 "metadata": {
  "kernelspec": {
   "display_name": "Python 3",
   "language": "python",
   "name": "python3"
  },
  "language_info": {
   "codemirror_mode": {
    "name": "ipython",
    "version": 3
   },
   "file_extension": ".py",
   "mimetype": "text/x-python",
   "name": "python",
   "nbconvert_exporter": "python",
   "pygments_lexer": "ipython3",
   "version": "3.9.20"
  }
 },
 "nbformat": 4,
 "nbformat_minor": 4
}
