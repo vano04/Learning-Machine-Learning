{
 "cells": [
  {
   "cell_type": "code",
   "execution_count": 1,
   "metadata": {},
   "outputs": [],
   "source": [
    "import numpy as np\n",
    "import math\n",
    "import random\n",
    "import matplotlib.pyplot as plt"
   ]
  },
  {
   "cell_type": "code",
   "execution_count": 3,
   "metadata": {},
   "outputs": [],
   "source": [
    "class Value:\n",
    "\n",
    "    def __init__(self, data, _children=(), _op='', label=''):\n",
    "        self.data = data\n",
    "        self.grad = 0.0\n",
    "        self._backward = lambda: None\n",
    "        self._prev = set(_children)\n",
    "        self._op = _op\n",
    "        self.label = label\n",
    "\n",
    "    def __repr__(self):\n",
    "        return f'Value(data={self.data})'\n",
    "    \n",
    "    def __add__(self, other):\n",
    "        other = other if isinstance(other, Value) else Value(other) # for if being added to a non Value type bc no .data\n",
    "\n",
    "        out = Value(self.data + other.data, (self, other), '+')\n",
    "\n",
    "        def _backward():\n",
    "            self.grad += 1.0 * out.grad\n",
    "            other.grad += 1.0 * out.grad\n",
    "        \n",
    "        out._backward = _backward # stores function instead of calling for value (_background()) which is type none\n",
    "        return out\n",
    "\n",
    "    def __mul__(self, other):\n",
    "        other = other if isinstance(other, Value) else Value(other)\n",
    "\n",
    "        out = Value(self.data * other.data, (self, other), '*')\n",
    "\n",
    "        def _backward():\n",
    "            self.grad += other.data * out.grad\n",
    "            other.grad += self.data * out.grad\n",
    "\n",
    "        out._backward = _backward\n",
    "\n",
    "        return out\n",
    "    \n",
    "    def __pow__(self, other):\n",
    "        #checking to make sure its int or float\n",
    "        assert isinstance(other, (int, float)), \"only supporting int/float powers for now\"\n",
    "        out = Value(self.data**other, (self,), f'**{other}')\n",
    "\n",
    "        def _backward():\n",
    "            self.grad += other * (self.data ** (other - 1)) * out.grad # chained\n",
    "        out._backward = _backward\n",
    "        \n",
    "        return out\n",
    "    \n",
    "    def __rmul__(self, other): # other * self\n",
    "        return self * other\n",
    "\n",
    "    def __truediv__(self, other): # self / other (self * other**-1)\n",
    "        return self * other**-1\n",
    "    \n",
    "    def __neg__(self):\n",
    "        return self * -1\n",
    "    \n",
    "    def __sub__(self, other):\n",
    "        return self + (-other)\n",
    "    \n",
    "    def __radd__(self, other): # other + self\n",
    "        return self + other\n",
    "\n",
    "    # Activation function\n",
    "    def tanh(self):\n",
    "        x = self.data\n",
    "        t = (math.exp(2*x) - 1)/(math.exp(2*x) + 1)\n",
    "        out = Value(t, (self, ), 'tanh')\n",
    "\n",
    "        def _backward():\n",
    "            self.grad += (1-t**2) * out.grad\n",
    "\n",
    "        out._backward = _backward\n",
    "\n",
    "        return out\n",
    "    \n",
    "    # def exp(self): # e^x\n",
    "    #     x = self.data\n",
    "    #     out = Value(math.exp(x), (self, ), 'exp')\n",
    "\n",
    "    #     def _backward():\n",
    "    #         self.grad += out.data * out.grad\n",
    "    #     out._backward = _backward\n",
    "\n",
    "    #     return out\n",
    "    \n",
    "    # topological sort and then back propigate using _backward stored functions through them in order.\n",
    "    def backward(self):\n",
    "        topo = []\n",
    "        visited = set()\n",
    "        def build_topo(v):\n",
    "            if v not in visited:\n",
    "                visited.add(v)\n",
    "                for child in v._prev:\n",
    "                    build_topo(child)\n",
    "                topo.append(v)\n",
    "        build_topo(self)\n",
    "\n",
    "        self.grad = 1.0\n",
    "        for node in reversed(topo):\n",
    "            node._backward()"
   ]
  },
  {
   "cell_type": "code",
   "execution_count": 4,
   "metadata": {},
   "outputs": [],
   "source": [
    "class Neuron:\n",
    "    \n",
    "    def __init__(self, nin):\n",
    "        self.w = [Value(random.uniform(-1,1)) for _ in range(nin)]\n",
    "        self.b = Value(random.uniform(-1,1))\n",
    "    \n",
    "    def __call__(self, x): # if n = Neuron(2) and x = [1,2] , n(x) calls this func and iterates through all x\n",
    "        # w * x + b | zip(self.w, x) is tuple (weight, x)\n",
    "        act = sum((wi*xi for wi, xi in zip(self.w, x)), self.b) # end self.b is just + self.b\n",
    "        # forward activation\n",
    "        out = act.tanh()\n",
    "        return out\n",
    "    \n",
    "    def parameters(self):\n",
    "        return self.w + [self.b] # list of w concatinated with list of b, w + b, list + list\n",
    "\n",
    "class Layer:\n",
    "\n",
    "    def __init__(self, nin, nout):\n",
    "        self.neurons = [Neuron(nin) for _ in range (nout)]\n",
    "\n",
    "    def __call__(self, x):\n",
    "        outs = [n(x) for n in self.neurons]\n",
    "        return outs[0] if len(outs) == 1 else outs\n",
    "    \n",
    "    def parameters(self):\n",
    "        return [p for neuron in self.neurons for p in neuron.parameters()]\n",
    "        # Same code\n",
    "        # params = []\n",
    "        # for neuron in self.neurons:\n",
    "        #     ps = neuron.parameters()\n",
    "        #     params.extend(ps)\n",
    "        # return params\n",
    "    \n",
    "class MLP: # mlp = MLP(inputs, [l1, l2, out])\n",
    "\n",
    "    def __init__(self, nin, nouts):\n",
    "        sz = [nin] + nouts\n",
    "        self.layers = [Layer(sz[i], sz[i+1]) for i in range(len(nouts))]\n",
    "\n",
    "    def __call__(self, x):\n",
    "        for layer in self.layers:\n",
    "            x = layer(x)\n",
    "        return x\n",
    "    \n",
    "    def parameters(self):\n",
    "        return [p for layer in self.layers for p in layer.parameters()]"
   ]
  },
  {
   "cell_type": "code",
   "execution_count": 5,
   "metadata": {},
   "outputs": [],
   "source": [
    "n = MLP(3, [4,4,1])\n",
    "\n",
    "xs = [\n",
    "    [2.0, 3.0, -1.0],\n",
    "    [3.0, -1.0, 0.5],\n",
    "    [0.5, 1.0, 1.0],\n",
    "    [1.0, 1.0, -1.0],\n",
    "]\n",
    "\n",
    "ys = [1.0, -1.0, -1.0, 1.0] # desired targets"
   ]
  },
  {
   "cell_type": "code",
   "execution_count": 6,
   "metadata": {},
   "outputs": [
    {
     "data": {
      "text/plain": [
       "Value(data=2.5144398225913664)"
      ]
     },
     "execution_count": 6,
     "metadata": {},
     "output_type": "execute_result"
    }
   ],
   "source": [
    "# forward pass\n",
    "ypred = [n(x) for x in xs]\n",
    "loss = sum((yout - ygt)**2 for ygt, yout in zip(ys, ypred))\n",
    "loss"
   ]
  },
  {
   "cell_type": "code",
   "execution_count": 7,
   "metadata": {},
   "outputs": [],
   "source": [
    "# back prop\n",
    "loss.backward()"
   ]
  },
  {
   "cell_type": "code",
   "execution_count": 8,
   "metadata": {},
   "outputs": [
    {
     "data": {
      "text/plain": [
       "-3.6672092499198237"
      ]
     },
     "execution_count": 8,
     "metadata": {},
     "output_type": "execute_result"
    }
   ],
   "source": [
    "n.layers[0].neurons[0].w[0].grad"
   ]
  },
  {
   "cell_type": "code",
   "execution_count": 9,
   "metadata": {},
   "outputs": [
    {
     "data": {
      "text/plain": [
       "-0.043322835528839976"
      ]
     },
     "execution_count": 9,
     "metadata": {},
     "output_type": "execute_result"
    }
   ],
   "source": [
    "n.layers[0].neurons[0].w[0].data"
   ]
  },
  {
   "cell_type": "code",
   "execution_count": 10,
   "metadata": {},
   "outputs": [],
   "source": [
    "# nudge, SGD, update\n",
    "for p in n.parameters():\n",
    "    p.data += -0.01 * p.grad # param - lr * grad"
   ]
  },
  {
   "cell_type": "code",
   "execution_count": 11,
   "metadata": {},
   "outputs": [],
   "source": [
    "n = MLP(3, [4,4,1])\n",
    "\n",
    "xs = [\n",
    "    [2.0, 3.0, -1.0],\n",
    "    [3.0, -1.0, 0.5],\n",
    "    [0.5, 1.0, 1.0],\n",
    "    [1.0, 1.0, -1.0],\n",
    "]\n",
    "\n",
    "ys = [1.0, -1.0, -1.0, 1.0] # desired targets"
   ]
  },
  {
   "cell_type": "code",
   "execution_count": 12,
   "metadata": {},
   "outputs": [
    {
     "name": "stdout",
     "output_type": "stream",
     "text": [
      "0 5.086789439416831\n",
      "1 3.5828316879915594\n",
      "2 3.540589500472347\n",
      "3 3.5375463327426626\n",
      "4 3.402871248473955\n",
      "5 2.4886433042829825\n",
      "6 2.0615111697632043\n",
      "7 0.8155369439965119\n",
      "8 0.3455014112488357\n",
      "9 0.1593650855249849\n",
      "10 0.11950073453861208\n",
      "11 0.09657992268344176\n",
      "12 0.08148912059788956\n",
      "13 0.07071861805593058\n",
      "14 0.06260060338643882\n",
      "15 0.056237410148291624\n",
      "16 0.051100839937382354\n",
      "17 0.046858511220522814\n",
      "18 0.04329005073536264\n",
      "19 0.040243131006169205\n"
     ]
    }
   ],
   "source": [
    "for k in range(20): # x steps\n",
    "\n",
    "    # forward pass\n",
    "    ypred = [n(x) for x in xs]\n",
    "    loss = sum((yout - ygt)**2 for ygt, yout in zip(ys, ypred))\n",
    "\n",
    "    # backward pass\n",
    "\n",
    "    #zero-grad\n",
    "    for p in n.parameters():\n",
    "        p.grad = 0.0\n",
    "    loss.backward()\n",
    "\n",
    "    #update\n",
    "    for p in n.parameters():\n",
    "        p.data += -0.05 * p.grad # param - lr * grad\n",
    "\n",
    "    print(k, loss.data)"
   ]
  },
  {
   "cell_type": "code",
   "execution_count": 13,
   "metadata": {},
   "outputs": [
    {
     "data": {
      "text/plain": [
       "[Value(data=0.9189620451752359),\n",
       " Value(data=-0.8972489240081414),\n",
       " Value(data=-0.902781902201888),\n",
       " Value(data=0.8830947446561074)]"
      ]
     },
     "execution_count": 13,
     "metadata": {},
     "output_type": "execute_result"
    }
   ],
   "source": [
    "ypred"
   ]
  },
  {
   "cell_type": "markdown",
   "metadata": {},
   "source": [
    "What you can add:\n",
    "- Learning rate decay lr gets finer as loss gets smaller\n",
    "- momentum?\n",
    "- ReLU\n",
    "- diff thing than SGD"
   ]
  },
  {
   "cell_type": "code",
   "execution_count": 25,
   "metadata": {},
   "outputs": [
    {
     "name": "stderr",
     "output_type": "stream",
     "text": [
      "/var/folders/xv/6zbq1xn93t5_kbqq1yry1kp40000gn/T/ipykernel_25070/120777593.py:68: DeprecationWarning: Conversion of an array with ndim > 0 to a scalar is deprecated, and will error in future. Ensure you extract a single element from your array before performing this operation. (Deprecated NumPy 1.25.)\n",
      "  t = (math.exp(2*x) - 1)/(math.exp(2*x) + 1)\n"
     ]
    },
    {
     "name": "stdout",
     "output_type": "stream",
     "text": [
      "batch: 1 | loss: [46.99371076]\n",
      "batch: 2 | loss: [40.92499889]\n",
      "batch: 3 | loss: [34.55885842]\n",
      "batch: 4 | loss: [34.34180772]\n",
      "batch: 5 | loss: [38.076552]\n",
      "batch: 6 | loss: [31.71104716]\n",
      "batch: 7 | loss: [30.77648847]\n",
      "batch: 8 | loss: [29.39356722]\n",
      "batch: 9 | loss: [51.66404559]\n",
      "batch: 10 | loss: [24.61051829]\n",
      "batch: 11 | loss: [36.89640685]\n",
      "batch: 12 | loss: [42.07920363]\n",
      "batch: 13 | loss: [65.57459365]\n",
      "batch: 14 | loss: [46.23539323]\n",
      "batch: 15 | loss: [45.83483444]\n",
      "batch: 16 | loss: [39.43545277]\n",
      "batch: 17 | loss: [39.06173829]\n",
      "batch: 18 | loss: [40.73161003]\n",
      "batch: 19 | loss: [38.84890918]\n",
      "batch: 20 | loss: [37.96003888]\n",
      "batch: 21 | loss: [38.97037307]\n",
      "batch: 22 | loss: [32.1736822]\n",
      "batch: 23 | loss: [27.17867464]\n",
      "batch: 24 | loss: [28.54431137]\n",
      "batch: 25 | loss: [28.58514576]\n",
      "batch: 26 | loss: [27.24623556]\n",
      "batch: 27 | loss: [20.10708169]\n",
      "batch: 28 | loss: [23.69845805]\n",
      "batch: 29 | loss: [50.38726925]\n",
      "batch: 30 | loss: [103.42942882]\n",
      "batch: 31 | loss: [72.46333206]\n",
      "batch: 32 | loss: [51.75413291]\n",
      "batch: 33 | loss: [41.38262044]\n",
      "batch: 34 | loss: [42.54612548]\n",
      "batch: 35 | loss: [37.75347622]\n",
      "batch: 36 | loss: [34.69404922]\n",
      "batch: 37 | loss: [32.7917813]\n",
      "batch: 38 | loss: [32.56606176]\n",
      "batch: 39 | loss: [31.21482251]\n",
      "batch: 40 | loss: [24.14105914]\n",
      "batch: 41 | loss: [24.03741543]\n",
      "batch: 42 | loss: [54.21102948]\n",
      "batch: 43 | loss: [97.40387139]\n",
      "batch: 44 | loss: [57.78425476]\n",
      "batch: 45 | loss: [44.98051873]\n",
      "batch: 46 | loss: [51.31474512]\n",
      "batch: 47 | loss: [39.73169715]\n",
      "batch: 48 | loss: [45.86663437]\n",
      "batch: 49 | loss: [50.73463303]\n",
      "batch: 50 | loss: [43.04064776]\n",
      "batch: 51 | loss: [48.65476449]\n",
      "batch: 52 | loss: [43.6375598]\n",
      "batch: 53 | loss: [40.63752847]\n",
      "batch: 54 | loss: [35.06013436]\n",
      "batch: 55 | loss: [38.88608983]\n",
      "batch: 56 | loss: [34.83529764]\n",
      "batch: 57 | loss: [35.17419471]\n",
      "batch: 58 | loss: [33.25194616]\n",
      "batch: 59 | loss: [23.40802804]\n",
      "batch: 60 | loss: [21.86922822]\n",
      "batch: 61 | loss: [21.73489013]\n",
      "batch: 62 | loss: [36.93261961]\n",
      "batch: 63 | loss: [72.58487996]\n",
      "batch: 64 | loss: [43.46562847]\n",
      "batch: 65 | loss: [47.55092862]\n",
      "batch: 66 | loss: [76.36561795]\n",
      "batch: 67 | loss: [57.89668568]\n",
      "batch: 68 | loss: [50.25907489]\n",
      "batch: 69 | loss: [44.00997438]\n",
      "batch: 70 | loss: [37.96704479]\n",
      "batch: 71 | loss: [35.82225477]\n",
      "batch: 72 | loss: [33.40706457]\n",
      "batch: 73 | loss: [32.29053504]\n",
      "batch: 74 | loss: [29.74913014]\n",
      "batch: 75 | loss: [43.11164798]\n",
      "batch: 76 | loss: [74.51779279]\n",
      "batch: 77 | loss: [52.04155765]\n",
      "batch: 78 | loss: [42.78007073]\n",
      "batch: 79 | loss: [47.3142215]\n",
      "batch: 80 | loss: [39.7152346]\n",
      "batch: 81 | loss: [41.42679972]\n",
      "batch: 82 | loss: [40.55814736]\n",
      "batch: 83 | loss: [32.61401973]\n",
      "batch: 84 | loss: [30.3512548]\n",
      "batch: 85 | loss: [29.51106681]\n",
      "batch: 86 | loss: [33.12993814]\n",
      "batch: 87 | loss: [64.71843173]\n",
      "batch: 88 | loss: [31.55749491]\n",
      "batch: 89 | loss: [24.89589143]\n",
      "batch: 90 | loss: [28.66303386]\n",
      "batch: 91 | loss: [55.66580089]\n",
      "batch: 92 | loss: [26.87787236]\n",
      "batch: 93 | loss: [26.20754914]\n",
      "batch: 94 | loss: [24.47509639]\n",
      "batch: 95 | loss: [38.14242875]\n",
      "batch: 96 | loss: [89.13937685]\n",
      "batch: 97 | loss: [27.5599356]\n",
      "batch: 98 | loss: [26.17546753]\n",
      "batch: 99 | loss: [77.96702691]\n"
     ]
    },
    {
     "data": {
      "text/plain": [
       "[<matplotlib.lines.Line2D at 0x140503100>]"
      ]
     },
     "execution_count": 25,
     "metadata": {},
     "output_type": "execute_result"
    },
    {
     "data": {
      "image/png": "[encoded data removed]",
      "text/plain": [
       "<Figure size 640x480 with 1 Axes>"
      ]
     },
     "metadata": {},
     "output_type": "display_data"
    }
   ],
   "source": [
    "min = -np.pi\n",
    "max = np.pi\n",
    "\n",
    "steps = 1000\n",
    "batch_size = 100\n",
    "log_every_steps = 1\n",
    "\n",
    "learning_rate = 1e-3\n",
    "\n",
    "rates = []\n",
    "\n",
    "# class NeuralNetwork():\n",
    "#     def __init__(self):\n",
    "#         self.NN = MLP(1, [10, 10, 1]) # 1 in 10 hidden 1 out (maybe 2nd 10 hidden)\n",
    "    # def forward(self, batch): # batch of x's\n",
    "    #     ypred = [n(n) for n in batch]\n",
    "    #     return ypred\n",
    "\n",
    "model = MLP(1, [5, 5, 1])\n",
    "\n",
    "for i in range(steps):\n",
    "    # Gen batch\n",
    "    x = np.random.rand(batch_size, 1) * 2 * max - min\n",
    "    \n",
    "    # Forward\n",
    "    y_expected = np.sin(x)\n",
    "    y_hat = [model(i) for i in x]\n",
    "\n",
    "    loss = sum((yout - ygt)**2 for ygt, yout in zip(y_expected, y_hat))\n",
    "\n",
    "    # Backward\n",
    "    for p in model.parameters():\n",
    "        p.grad = 0.0\n",
    "    loss.backward()\n",
    "\n",
    "    # Optimizer Update\n",
    "    for p in model.parameters():\n",
    "        p.data += -learning_rate * p.grad\n",
    "    \n",
    "    if i > 0 and i % log_every_steps == 0:\n",
    "        print(f'batch: {i} | loss: {loss.data}')\n",
    "        rates.append(loss.data)\n",
    "\n",
    "plt.plot(rates)"
   ]
  }
 ],
 "metadata": {
  "kernelspec": {
   "display_name": "Python 3",
   "language": "python",
   "name": "python3"
  },
  "language_info": {
   "codemirror_mode": {
    "name": "ipython",
    "version": 3
   },
   "file_extension": ".py",
   "mimetype": "text/x-python",
   "name": "python",
   "nbconvert_exporter": "python",
   "pygments_lexer": "ipython3",
   "version": "3.10.12"
  }
 },
 "nbformat": 4,
 "nbformat_minor": 2
}
